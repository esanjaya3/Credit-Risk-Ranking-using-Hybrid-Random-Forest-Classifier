{
  "nbformat": 4,
  "nbformat_minor": 0,
  "metadata": {
    "colab": {
      "name": "Copy of Credit",
      "provenance": [],
      "collapsed_sections": [
        "ytAathyb8REf",
        "wjaygIAd3Jno",
        "5WjzLHQx411Q",
        "Gjos4SpZeAyi",
        "yYkbL5tnMFpv",
        "PIQ3FPHydHND",
        "4JccGlKOOb5o",
        "jAWnT13EbQ48",
        "fdjMuufHRQhb",
        "33csR5dGJI1z"
      ]
    },
    "kernelspec": {
      "name": "python3",
      "display_name": "Python 3"
    }
  },
  "cells": [
    {
      "cell_type": "markdown",
      "metadata": {
        "id": "4-eyd48U74I1"
      },
      "source": [
        "## 1. Problem Understanding and Information Gathering\n",
        "\n",
        "### The first step I take is to know what is the problem then start gathering all the information from the dataset and figure out the solution.          \n",
        "### The problem is credit risk prediction\n",
        "### I will build the model to rank loan application based on credit behavior and the application \n",
        "### The result is loan application ranking from very low risk to very high risk\n",
        "\n",
        "\n"
      ]
    },
    {
      "cell_type": "markdown",
      "metadata": {
        "id": "ytAathyb8REf"
      },
      "source": [
        "## 2. Read the csv file"
      ]
    },
    {
      "cell_type": "code",
      "metadata": {
        "id": "KgxMJRy07PKP"
      },
      "source": [
        "# Read CSV file\n",
        "import pandas as pd\n",
        "import numpy as np\n",
        "inst = pd.read_csv('/content/drive/My Drive/Credit/installment_payment.csv')\n",
        "prev = pd.read_csv('/content/drive/My Drive/Credit/prev_app.csv')\n",
        "test = pd.read_csv('/content/drive/My Drive/Credit/app_test.csv')\n",
        "train = pd.read_csv('/content/drive/My Drive/Credit/app_train.csv')"
      ],
      "execution_count": null,
      "outputs": []
    },
    {
      "cell_type": "markdown",
      "metadata": {
        "id": "S2kUcuclldif"
      },
      "source": [
        "## 3. Data Preprocessing\n",
        "\n",
        "\n",
        "\n",
        "\n",
        "\n"
      ]
    },
    {
      "cell_type": "markdown",
      "metadata": {
        "id": "wjaygIAd3Jno"
      },
      "source": [
        "### 3.1. Determine the credit behavior (No need to run)"
      ]
    },
    {
      "cell_type": "markdown",
      "metadata": {
        "id": "FB4P_ZuoTlJg"
      },
      "source": [
        "Credit behavior is one of feature that i choose because it is used in real world and increase the risk model perfomance"
      ]
    },
    {
      "cell_type": "code",
      "metadata": {
        "id": "JTAxQIlgOuGi",
        "colab": {
          "base_uri": "https://localhost:8080/"
        },
        "outputId": "fc7c6d56-5b4c-4ad4-8e3b-50c8112a1f49"
      },
      "source": [
        "# Check duplicate\n",
        "inst_dup = inst[inst.duplicated()] \n",
        "print(inst_dup)"
      ],
      "execution_count": null,
      "outputs": [
        {
          "output_type": "stream",
          "name": "stdout",
          "text": [
            "Empty DataFrame\n",
            "Columns: [Unnamed: 0, SK_ID_PREV, LN_ID, INST_NUMBER, INST_DAYS, PAY_DAYS, AMT_INST, AMT_PAY]\n",
            "Index: []\n"
          ]
        }
      ]
    },
    {
      "cell_type": "markdown",
      "metadata": {
        "id": "phXTfU4oA9dT"
      },
      "source": [
        "There is no duplicate in installment csv"
      ]
    },
    {
      "cell_type": "code",
      "metadata": {
        "id": "n8q-Sk0WyMhP",
        "colab": {
          "base_uri": "https://localhost:8080/"
        },
        "outputId": "dbd53b44-18fb-4d23-c38f-e5091be68584"
      },
      "source": [
        "# Check null and dtype info\n",
        "inst.info(null_counts=1)"
      ],
      "execution_count": null,
      "outputs": [
        {
          "output_type": "stream",
          "name": "stdout",
          "text": [
            "<class 'pandas.core.frame.DataFrame'>\n",
            "RangeIndex: 2872306 entries, 0 to 2872305\n",
            "Data columns (total 8 columns):\n",
            " #   Column       Non-Null Count    Dtype  \n",
            "---  ------       --------------    -----  \n",
            " 0   Unnamed: 0   2872306 non-null  int64  \n",
            " 1   SK_ID_PREV   2872306 non-null  int64  \n",
            " 2   LN_ID        2872306 non-null  int64  \n",
            " 3   INST_NUMBER  2872306 non-null  int64  \n",
            " 4   INST_DAYS    2872306 non-null  float64\n",
            " 5   PAY_DAYS     2871633 non-null  float64\n",
            " 6   AMT_INST     2872306 non-null  float64\n",
            " 7   AMT_PAY      2871633 non-null  float64\n",
            "dtypes: float64(4), int64(4)\n",
            "memory usage: 175.3 MB\n"
          ]
        }
      ]
    },
    {
      "cell_type": "markdown",
      "metadata": {
        "id": "vlEG85QtHEmm"
      },
      "source": [
        "There is some null values in this data, I assume this missing values happen because the borrower run away, died, etc. So i will treat this missing value same as the loaner didnt \n",
        "pay and fill it with zero\n",
        "\n",
        "Then I build algorithm to determine the credit behavior. I consider the behavior is bad when\n",
        "\n",
        "1. If the PAY_DAYS overlap the INST_DAYS by more than 30 days\n",
        "\n",
        "2. If the AMT_INST bigger than AMT_PAY \n"
      ]
    },
    {
      "cell_type": "code",
      "metadata": {
        "id": "uHg8PcRRd59t"
      },
      "source": [
        "# Fill and sort inst csv\n",
        "inst = inst.fillna(value=0)\n",
        "inst = inst.sort_values(by=['LN_ID']) \n",
        "\n",
        "# Make array and list contain unique iD\n",
        "inst_arr = np.array(inst[['SK_ID_PREV','LN_ID','INST_NUMBER','INST_DAYS','PAY_DAYS','AMT_INST','AMT_PAY']])\n",
        "list = inst.LN_ID.unique()\n",
        "list.sort()"
      ],
      "execution_count": null,
      "outputs": []
    },
    {
      "cell_type": "code",
      "metadata": {
        "id": "9YRHgcxxXAX8"
      },
      "source": [
        "# Calculate credit behavior\n",
        "inst_cb = np.array([[0,0]])\n",
        "total = np.array([[0]])\n",
        "k = 0\n",
        "for i in list: \n",
        "  a = 0\n",
        "  b = 0\n",
        "  c = 0\n",
        "  for j in range(k,inst_arr.shape[0]):\n",
        "    if inst_arr[j,1] == i:\n",
        "      if inst_arr[j,3] - inst_arr[j,4] < -30:\n",
        "        a = a + 1\n",
        "        c = c + 1\n",
        "        k = k + 1\n",
        "      else:\n",
        "        c = c + 1\n",
        "        k = k + 1\n",
        "      if inst_arr[j,-1] < inst_arr[j,-2]:\n",
        "        b = b + 1\n",
        "      else:\n",
        "        None\n",
        "    else:\n",
        "      break\n",
        "  total = np.concatenate([total,np.array([[c]])])\n",
        "  inst_cb = np.concatenate([inst_cb,np.array([[a,b]])])\n",
        "feat_cb = inst_cb/total"
      ],
      "execution_count": null,
      "outputs": []
    },
    {
      "cell_type": "code",
      "metadata": {
        "id": "8m4P-_o7TF6G"
      },
      "source": [
        "credit_behavior = np.zeros([feat_cb.shape[0]-1,2])\n",
        "for i in range(1,feat_cb.shape[0]):\n",
        "  credit_behavior[i-1,1] = feat_cb[i,0]+feat_cb[i,1]\n",
        "  credit_behavior[i-1,0] = list[i-1]"
      ],
      "execution_count": null,
      "outputs": []
    },
    {
      "cell_type": "markdown",
      "metadata": {
        "id": "guJRXa0m40N8"
      },
      "source": [
        "The result is credit_behavior matrix that contain credit behavior and id number"
      ]
    },
    {
      "cell_type": "markdown",
      "metadata": {
        "id": "5WjzLHQx411Q"
      },
      "source": [
        "### 3.2 Select credit behavior based on train and test id (No need to run)"
      ]
    },
    {
      "cell_type": "markdown",
      "metadata": {
        "id": "dqr2deSRYhA9"
      },
      "source": [
        "I seperate and save this into csv because the running time is a little bit long"
      ]
    },
    {
      "cell_type": "code",
      "metadata": {
        "id": "zd1zJEG62xmt"
      },
      "source": [
        "train = train.sort_values(by=['LN_ID'])\n",
        "test = test.sort_values(by=['LN_ID'])\n",
        "id_train = np.array(train['LN_ID'])\n",
        "id_test = np.array(test['LN_ID'])\n",
        "def extract_cb(data):\n",
        "  data_cb = np.zeros([data.shape[0],1])\n",
        "  for i in range(data.shape[0]):\n",
        "    for j in range(credit_behavior.shape[0]):\n",
        "      if data[i] != credit_behavior[j,0]:\n",
        "        None\n",
        "      else:\n",
        "        data_cb[i,0] = credit_behavior[j,1]\n",
        "        break\n",
        "  return data_cb\n",
        "\n",
        "train_cb = extract_cb(id_train)\n",
        "test_cb = extract_cb(id_test)"
      ],
      "execution_count": null,
      "outputs": []
    },
    {
      "cell_type": "code",
      "metadata": {
        "id": "Ip0sw95muF8P"
      },
      "source": [
        "np.savetxt(\"train_cb.csv\", train_cb, delimiter=\",\")\n",
        "np.savetxt(\"test_cb.csv\", test_cb, delimiter=\",\")"
      ],
      "execution_count": null,
      "outputs": []
    },
    {
      "cell_type": "markdown",
      "metadata": {
        "id": "ng78rSwoY-7p"
      },
      "source": [
        "The result is train_cb.csv and test_cb.csv that contain credit behavior for train and test "
      ]
    },
    {
      "cell_type": "markdown",
      "metadata": {
        "id": "Gjos4SpZeAyi"
      },
      "source": [
        "### 3.3. Examine test.csv and train.csv\n"
      ]
    },
    {
      "cell_type": "code",
      "metadata": {
        "id": "CPrkP4JOe2gZ",
        "colab": {
          "base_uri": "https://localhost:8080/"
        },
        "outputId": "2d264238-ceb9-4ca2-c6fe-0e643f2adc98"
      },
      "source": [
        "# Check nulll and dtype\n",
        "train.info()"
      ],
      "execution_count": null,
      "outputs": [
        {
          "output_type": "stream",
          "name": "stdout",
          "text": [
            "<class 'pandas.core.frame.DataFrame'>\n",
            "Int64Index: 61503 entries, 789 to 2528\n",
            "Data columns (total 24 columns):\n",
            " #   Column             Non-Null Count  Dtype  \n",
            "---  ------             --------------  -----  \n",
            " 0   Unnamed: 0         61503 non-null  int64  \n",
            " 1   LN_ID              61503 non-null  int64  \n",
            " 2   TARGET             61503 non-null  int64  \n",
            " 3   CONTRACT_TYPE      61503 non-null  object \n",
            " 4   GENDER             61503 non-null  object \n",
            " 5   NUM_CHILDREN       61503 non-null  int64  \n",
            " 6   INCOME             61503 non-null  float64\n",
            " 7   APPROVED_CREDIT    61503 non-null  float64\n",
            " 8   ANNUITY            61502 non-null  float64\n",
            " 9   PRICE              61441 non-null  float64\n",
            " 10  INCOME_TYPE        61503 non-null  object \n",
            " 11  EDUCATION          61503 non-null  object \n",
            " 12  FAMILY_STATUS      61503 non-null  object \n",
            " 13  HOUSING_TYPE       61503 non-null  object \n",
            " 14  DAYS_AGE           61503 non-null  int64  \n",
            " 15  DAYS_WORK          61503 non-null  int64  \n",
            " 16  DAYS_REGISTRATION  61503 non-null  float64\n",
            " 17  DAYS_ID_CHANGE     61503 non-null  int64  \n",
            " 18  WEEKDAYS_APPLY     61503 non-null  object \n",
            " 19  HOUR_APPLY         61503 non-null  int64  \n",
            " 20  ORGANIZATION_TYPE  61503 non-null  object \n",
            " 21  EXT_SCORE_1        26658 non-null  float64\n",
            " 22  EXT_SCORE_2        61369 non-null  float64\n",
            " 23  EXT_SCORE_3        49264 non-null  float64\n",
            "dtypes: float64(8), int64(8), object(8)\n",
            "memory usage: 11.7+ MB\n"
          ]
        }
      ]
    },
    {
      "cell_type": "code",
      "metadata": {
        "id": "sB4YFQt46-zy",
        "colab": {
          "base_uri": "https://localhost:8080/",
          "height": 588
        },
        "outputId": "6608d63f-672d-472f-b1fb-595fd99faec9"
      },
      "source": [
        "train.corr()"
      ],
      "execution_count": null,
      "outputs": [
        {
          "output_type": "execute_result",
          "data": {
            "text/html": [
              "<div>\n",
              "<style scoped>\n",
              "    .dataframe tbody tr th:only-of-type {\n",
              "        vertical-align: middle;\n",
              "    }\n",
              "\n",
              "    .dataframe tbody tr th {\n",
              "        vertical-align: top;\n",
              "    }\n",
              "\n",
              "    .dataframe thead th {\n",
              "        text-align: right;\n",
              "    }\n",
              "</style>\n",
              "<table border=\"1\" class=\"dataframe\">\n",
              "  <thead>\n",
              "    <tr style=\"text-align: right;\">\n",
              "      <th></th>\n",
              "      <th>Unnamed: 0</th>\n",
              "      <th>LN_ID</th>\n",
              "      <th>TARGET</th>\n",
              "      <th>NUM_CHILDREN</th>\n",
              "      <th>INCOME</th>\n",
              "      <th>APPROVED_CREDIT</th>\n",
              "      <th>ANNUITY</th>\n",
              "      <th>PRICE</th>\n",
              "      <th>DAYS_AGE</th>\n",
              "      <th>DAYS_WORK</th>\n",
              "      <th>DAYS_REGISTRATION</th>\n",
              "      <th>DAYS_ID_CHANGE</th>\n",
              "      <th>HOUR_APPLY</th>\n",
              "      <th>EXT_SCORE_1</th>\n",
              "      <th>EXT_SCORE_2</th>\n",
              "      <th>EXT_SCORE_3</th>\n",
              "    </tr>\n",
              "  </thead>\n",
              "  <tbody>\n",
              "    <tr>\n",
              "      <th>Unnamed: 0</th>\n",
              "      <td>1.000000</td>\n",
              "      <td>0.999999</td>\n",
              "      <td>0.003167</td>\n",
              "      <td>-0.004230</td>\n",
              "      <td>0.007123</td>\n",
              "      <td>0.000194</td>\n",
              "      <td>0.002940</td>\n",
              "      <td>0.000655</td>\n",
              "      <td>-0.002353</td>\n",
              "      <td>0.000448</td>\n",
              "      <td>-0.005554</td>\n",
              "      <td>-0.003076</td>\n",
              "      <td>-0.002203</td>\n",
              "      <td>-0.005550</td>\n",
              "      <td>0.004905</td>\n",
              "      <td>0.004455</td>\n",
              "    </tr>\n",
              "    <tr>\n",
              "      <th>LN_ID</th>\n",
              "      <td>0.999999</td>\n",
              "      <td>1.000000</td>\n",
              "      <td>0.003173</td>\n",
              "      <td>-0.004228</td>\n",
              "      <td>0.007124</td>\n",
              "      <td>0.000192</td>\n",
              "      <td>0.002940</td>\n",
              "      <td>0.000653</td>\n",
              "      <td>-0.002354</td>\n",
              "      <td>0.000448</td>\n",
              "      <td>-0.005554</td>\n",
              "      <td>-0.003073</td>\n",
              "      <td>-0.002198</td>\n",
              "      <td>-0.005554</td>\n",
              "      <td>0.004900</td>\n",
              "      <td>0.004451</td>\n",
              "    </tr>\n",
              "    <tr>\n",
              "      <th>TARGET</th>\n",
              "      <td>0.003167</td>\n",
              "      <td>0.003173</td>\n",
              "      <td>1.000000</td>\n",
              "      <td>0.018525</td>\n",
              "      <td>-0.020814</td>\n",
              "      <td>-0.039372</td>\n",
              "      <td>-0.019047</td>\n",
              "      <td>-0.047927</td>\n",
              "      <td>0.083524</td>\n",
              "      <td>-0.049952</td>\n",
              "      <td>0.039037</td>\n",
              "      <td>0.055748</td>\n",
              "      <td>-0.029929</td>\n",
              "      <td>-0.175235</td>\n",
              "      <td>-0.159431</td>\n",
              "      <td>-0.182254</td>\n",
              "    </tr>\n",
              "    <tr>\n",
              "      <th>NUM_CHILDREN</th>\n",
              "      <td>-0.004230</td>\n",
              "      <td>-0.004228</td>\n",
              "      <td>0.018525</td>\n",
              "      <td>1.000000</td>\n",
              "      <td>0.021530</td>\n",
              "      <td>0.007365</td>\n",
              "      <td>0.027297</td>\n",
              "      <td>0.003395</td>\n",
              "      <td>0.331271</td>\n",
              "      <td>-0.240094</td>\n",
              "      <td>0.178593</td>\n",
              "      <td>-0.036734</td>\n",
              "      <td>-0.009091</td>\n",
              "      <td>-0.136222</td>\n",
              "      <td>-0.018246</td>\n",
              "      <td>-0.040431</td>\n",
              "    </tr>\n",
              "    <tr>\n",
              "      <th>INCOME</th>\n",
              "      <td>0.007123</td>\n",
              "      <td>0.007124</td>\n",
              "      <td>-0.020814</td>\n",
              "      <td>0.021530</td>\n",
              "      <td>1.000000</td>\n",
              "      <td>0.279659</td>\n",
              "      <td>0.351515</td>\n",
              "      <td>0.285695</td>\n",
              "      <td>0.050382</td>\n",
              "      <td>-0.116870</td>\n",
              "      <td>0.053163</td>\n",
              "      <td>0.017501</td>\n",
              "      <td>0.064925</td>\n",
              "      <td>0.062803</td>\n",
              "      <td>0.120227</td>\n",
              "      <td>-0.063953</td>\n",
              "    </tr>\n",
              "    <tr>\n",
              "      <th>APPROVED_CREDIT</th>\n",
              "      <td>0.000194</td>\n",
              "      <td>0.000192</td>\n",
              "      <td>-0.039372</td>\n",
              "      <td>0.007365</td>\n",
              "      <td>0.279659</td>\n",
              "      <td>1.000000</td>\n",
              "      <td>0.771021</td>\n",
              "      <td>0.987017</td>\n",
              "      <td>-0.049237</td>\n",
              "      <td>-0.071783</td>\n",
              "      <td>0.014528</td>\n",
              "      <td>-0.007247</td>\n",
              "      <td>0.052435</td>\n",
              "      <td>0.173309</td>\n",
              "      <td>0.132126</td>\n",
              "      <td>0.045288</td>\n",
              "    </tr>\n",
              "    <tr>\n",
              "      <th>ANNUITY</th>\n",
              "      <td>0.002940</td>\n",
              "      <td>0.002940</td>\n",
              "      <td>-0.019047</td>\n",
              "      <td>0.027297</td>\n",
              "      <td>0.351515</td>\n",
              "      <td>0.771021</td>\n",
              "      <td>1.000000</td>\n",
              "      <td>0.775949</td>\n",
              "      <td>0.015771</td>\n",
              "      <td>-0.111407</td>\n",
              "      <td>0.045753</td>\n",
              "      <td>0.010125</td>\n",
              "      <td>0.052041</td>\n",
              "      <td>0.117709</td>\n",
              "      <td>0.126223</td>\n",
              "      <td>0.032916</td>\n",
              "    </tr>\n",
              "    <tr>\n",
              "      <th>PRICE</th>\n",
              "      <td>0.000655</td>\n",
              "      <td>0.000653</td>\n",
              "      <td>-0.047927</td>\n",
              "      <td>0.003395</td>\n",
              "      <td>0.285695</td>\n",
              "      <td>0.987017</td>\n",
              "      <td>0.775949</td>\n",
              "      <td>1.000000</td>\n",
              "      <td>-0.048012</td>\n",
              "      <td>-0.069038</td>\n",
              "      <td>0.016497</td>\n",
              "      <td>-0.009235</td>\n",
              "      <td>0.062385</td>\n",
              "      <td>0.180624</td>\n",
              "      <td>0.140536</td>\n",
              "      <td>0.049573</td>\n",
              "    </tr>\n",
              "    <tr>\n",
              "      <th>DAYS_AGE</th>\n",
              "      <td>-0.002353</td>\n",
              "      <td>-0.002354</td>\n",
              "      <td>0.083524</td>\n",
              "      <td>0.331271</td>\n",
              "      <td>0.050382</td>\n",
              "      <td>-0.049237</td>\n",
              "      <td>0.015771</td>\n",
              "      <td>-0.048012</td>\n",
              "      <td>1.000000</td>\n",
              "      <td>-0.619288</td>\n",
              "      <td>0.324025</td>\n",
              "      <td>0.269007</td>\n",
              "      <td>0.088924</td>\n",
              "      <td>-0.601844</td>\n",
              "      <td>-0.089171</td>\n",
              "      <td>-0.204586</td>\n",
              "    </tr>\n",
              "    <tr>\n",
              "      <th>DAYS_WORK</th>\n",
              "      <td>0.000448</td>\n",
              "      <td>0.000448</td>\n",
              "      <td>-0.049952</td>\n",
              "      <td>-0.240094</td>\n",
              "      <td>-0.116870</td>\n",
              "      <td>-0.071783</td>\n",
              "      <td>-0.111407</td>\n",
              "      <td>-0.069038</td>\n",
              "      <td>-0.619288</td>\n",
              "      <td>1.000000</td>\n",
              "      <td>-0.206267</td>\n",
              "      <td>-0.271564</td>\n",
              "      <td>-0.087539</td>\n",
              "      <td>0.292186</td>\n",
              "      <td>-0.025813</td>\n",
              "      <td>0.115699</td>\n",
              "    </tr>\n",
              "    <tr>\n",
              "      <th>DAYS_REGISTRATION</th>\n",
              "      <td>-0.005554</td>\n",
              "      <td>-0.005554</td>\n",
              "      <td>0.039037</td>\n",
              "      <td>0.178593</td>\n",
              "      <td>0.053163</td>\n",
              "      <td>0.014528</td>\n",
              "      <td>0.045753</td>\n",
              "      <td>0.016497</td>\n",
              "      <td>0.324025</td>\n",
              "      <td>-0.206267</td>\n",
              "      <td>1.000000</td>\n",
              "      <td>0.099835</td>\n",
              "      <td>-0.010861</td>\n",
              "      <td>-0.175873</td>\n",
              "      <td>-0.058790</td>\n",
              "      <td>-0.104965</td>\n",
              "    </tr>\n",
              "    <tr>\n",
              "      <th>DAYS_ID_CHANGE</th>\n",
              "      <td>-0.003076</td>\n",
              "      <td>-0.003073</td>\n",
              "      <td>0.055748</td>\n",
              "      <td>-0.036734</td>\n",
              "      <td>0.017501</td>\n",
              "      <td>-0.007247</td>\n",
              "      <td>0.010125</td>\n",
              "      <td>-0.009235</td>\n",
              "      <td>0.269007</td>\n",
              "      <td>-0.271564</td>\n",
              "      <td>0.099835</td>\n",
              "      <td>1.000000</td>\n",
              "      <td>0.030328</td>\n",
              "      <td>-0.133185</td>\n",
              "      <td>-0.048921</td>\n",
              "      <td>-0.135565</td>\n",
              "    </tr>\n",
              "    <tr>\n",
              "      <th>HOUR_APPLY</th>\n",
              "      <td>-0.002203</td>\n",
              "      <td>-0.002198</td>\n",
              "      <td>-0.029929</td>\n",
              "      <td>-0.009091</td>\n",
              "      <td>0.064925</td>\n",
              "      <td>0.052435</td>\n",
              "      <td>0.052041</td>\n",
              "      <td>0.062385</td>\n",
              "      <td>0.088924</td>\n",
              "      <td>-0.087539</td>\n",
              "      <td>-0.010861</td>\n",
              "      <td>0.030328</td>\n",
              "      <td>1.000000</td>\n",
              "      <td>0.033944</td>\n",
              "      <td>0.160289</td>\n",
              "      <td>-0.046286</td>\n",
              "    </tr>\n",
              "    <tr>\n",
              "      <th>EXT_SCORE_1</th>\n",
              "      <td>-0.005550</td>\n",
              "      <td>-0.005554</td>\n",
              "      <td>-0.175235</td>\n",
              "      <td>-0.136222</td>\n",
              "      <td>0.062803</td>\n",
              "      <td>0.173309</td>\n",
              "      <td>0.117709</td>\n",
              "      <td>0.180624</td>\n",
              "      <td>-0.601844</td>\n",
              "      <td>0.292186</td>\n",
              "      <td>-0.175873</td>\n",
              "      <td>-0.133185</td>\n",
              "      <td>0.033944</td>\n",
              "      <td>1.000000</td>\n",
              "      <td>0.217201</td>\n",
              "      <td>0.188018</td>\n",
              "    </tr>\n",
              "    <tr>\n",
              "      <th>EXT_SCORE_2</th>\n",
              "      <td>0.004905</td>\n",
              "      <td>0.004900</td>\n",
              "      <td>-0.159431</td>\n",
              "      <td>-0.018246</td>\n",
              "      <td>0.120227</td>\n",
              "      <td>0.132126</td>\n",
              "      <td>0.126223</td>\n",
              "      <td>0.140536</td>\n",
              "      <td>-0.089171</td>\n",
              "      <td>-0.025813</td>\n",
              "      <td>-0.058790</td>\n",
              "      <td>-0.048921</td>\n",
              "      <td>0.160289</td>\n",
              "      <td>0.217201</td>\n",
              "      <td>1.000000</td>\n",
              "      <td>0.110022</td>\n",
              "    </tr>\n",
              "    <tr>\n",
              "      <th>EXT_SCORE_3</th>\n",
              "      <td>0.004455</td>\n",
              "      <td>0.004451</td>\n",
              "      <td>-0.182254</td>\n",
              "      <td>-0.040431</td>\n",
              "      <td>-0.063953</td>\n",
              "      <td>0.045288</td>\n",
              "      <td>0.032916</td>\n",
              "      <td>0.049573</td>\n",
              "      <td>-0.204586</td>\n",
              "      <td>0.115699</td>\n",
              "      <td>-0.104965</td>\n",
              "      <td>-0.135565</td>\n",
              "      <td>-0.046286</td>\n",
              "      <td>0.188018</td>\n",
              "      <td>0.110022</td>\n",
              "      <td>1.000000</td>\n",
              "    </tr>\n",
              "  </tbody>\n",
              "</table>\n",
              "</div>"
            ],
            "text/plain": [
              "                   Unnamed: 0     LN_ID  ...  EXT_SCORE_2  EXT_SCORE_3\n",
              "Unnamed: 0           1.000000  0.999999  ...     0.004905     0.004455\n",
              "LN_ID                0.999999  1.000000  ...     0.004900     0.004451\n",
              "TARGET               0.003167  0.003173  ...    -0.159431    -0.182254\n",
              "NUM_CHILDREN        -0.004230 -0.004228  ...    -0.018246    -0.040431\n",
              "INCOME               0.007123  0.007124  ...     0.120227    -0.063953\n",
              "APPROVED_CREDIT      0.000194  0.000192  ...     0.132126     0.045288\n",
              "ANNUITY              0.002940  0.002940  ...     0.126223     0.032916\n",
              "PRICE                0.000655  0.000653  ...     0.140536     0.049573\n",
              "DAYS_AGE            -0.002353 -0.002354  ...    -0.089171    -0.204586\n",
              "DAYS_WORK            0.000448  0.000448  ...    -0.025813     0.115699\n",
              "DAYS_REGISTRATION   -0.005554 -0.005554  ...    -0.058790    -0.104965\n",
              "DAYS_ID_CHANGE      -0.003076 -0.003073  ...    -0.048921    -0.135565\n",
              "HOUR_APPLY          -0.002203 -0.002198  ...     0.160289    -0.046286\n",
              "EXT_SCORE_1         -0.005550 -0.005554  ...     0.217201     0.188018\n",
              "EXT_SCORE_2          0.004905  0.004900  ...     1.000000     0.110022\n",
              "EXT_SCORE_3          0.004455  0.004451  ...     0.110022     1.000000\n",
              "\n",
              "[16 rows x 16 columns]"
            ]
          },
          "metadata": {},
          "execution_count": 11
        }
      ]
    },
    {
      "cell_type": "markdown",
      "metadata": {
        "id": "xeJZ3ihfbMIC"
      },
      "source": [
        "There is 16 numeric variable, 8 categorical variable, and several null values in ANNUITY, PRICE, EXT_SCORE_1,2,3.    \n",
        "The null PRICE happen because the CONTRACT_TYPE is revolving loans so there is no actual price.      \n",
        "I ignore the null PRICE and I will use the approved value instead because the correlation coef between these two is big and Im not missing any info about revolving loans.     \n",
        "I will remove the row that have null ANNUITY values because its only one data and for the EXT_SCORE I will replace it with its mean because EXT_SCORE have big correlation coef value.\n",
        "\n",
        "\n",
        "\n"
      ]
    },
    {
      "cell_type": "code",
      "metadata": {
        "id": "G29YIWg6E_v9"
      },
      "source": [
        "# Remove row train .csv based on ANNUITY null\n",
        "a = []\n",
        "train_null = np.array(pd.isnull(train[\"ANNUITY\"]))\n",
        "for i in range(train_null.shape[0]):\n",
        "  if train_null[i] == 1:\n",
        "    a = np.concatenate([a,np.array([i])])\n",
        "train = train.drop(a,axis=0)"
      ],
      "execution_count": null,
      "outputs": []
    },
    {
      "cell_type": "code",
      "metadata": {
        "id": "e7ac8c3Php0v",
        "colab": {
          "base_uri": "https://localhost:8080/"
        },
        "outputId": "600a370e-6aaf-4e59-f71d-df1752b2a6d4"
      },
      "source": [
        "# Check nulll and dtype\n",
        "test.info()"
      ],
      "execution_count": null,
      "outputs": [
        {
          "output_type": "stream",
          "name": "stdout",
          "text": [
            "<class 'pandas.core.frame.DataFrame'>\n",
            "Int64Index: 14761 entries, 8135 to 3527\n",
            "Data columns (total 24 columns):\n",
            " #   Column             Non-Null Count  Dtype  \n",
            "---  ------             --------------  -----  \n",
            " 0   Unnamed: 0         14761 non-null  int64  \n",
            " 1   LN_ID              14761 non-null  int64  \n",
            " 2   TARGET             14761 non-null  int64  \n",
            " 3   CONTRACT_TYPE      14761 non-null  object \n",
            " 4   GENDER             14761 non-null  object \n",
            " 5   NUM_CHILDREN       14761 non-null  int64  \n",
            " 6   INCOME             14761 non-null  float64\n",
            " 7   APPROVED_CREDIT    14761 non-null  float64\n",
            " 8   ANNUITY            14761 non-null  float64\n",
            " 9   PRICE              14741 non-null  float64\n",
            " 10  INCOME_TYPE        14761 non-null  object \n",
            " 11  EDUCATION          14761 non-null  object \n",
            " 12  FAMILY_STATUS      14761 non-null  object \n",
            " 13  HOUSING_TYPE       14761 non-null  object \n",
            " 14  DAYS_AGE           14761 non-null  int64  \n",
            " 15  DAYS_WORK          14761 non-null  int64  \n",
            " 16  DAYS_REGISTRATION  14761 non-null  float64\n",
            " 17  DAYS_ID_CHANGE     14761 non-null  int64  \n",
            " 18  WEEKDAYS_APPLY     14761 non-null  object \n",
            " 19  HOUR_APPLY         14761 non-null  int64  \n",
            " 20  ORGANIZATION_TYPE  14761 non-null  object \n",
            " 21  EXT_SCORE_1        6449 non-null   float64\n",
            " 22  EXT_SCORE_2        14742 non-null  float64\n",
            " 23  EXT_SCORE_3        11842 non-null  float64\n",
            "dtypes: float64(8), int64(8), object(8)\n",
            "memory usage: 2.8+ MB\n"
          ]
        }
      ]
    },
    {
      "cell_type": "markdown",
      "metadata": {
        "id": "NS6Df8zJlXd-"
      },
      "source": [
        "There is null in EXT_SCORE 1,2,3 and I will deal with same like in train.csv"
      ]
    },
    {
      "cell_type": "markdown",
      "metadata": {
        "id": "yYkbL5tnMFpv"
      },
      "source": [
        "### 3.4 Data transformation, scaling and removing outliers"
      ]
    },
    {
      "cell_type": "code",
      "metadata": {
        "id": "UB-IUNYYKosx"
      },
      "source": [
        "# Sort train and test by id\n",
        "train = train.sort_values(by=['LN_ID'])\n",
        "test = test.sort_values(by=['LN_ID'])\n",
        "\n",
        "# load train_cb and test_cb\n",
        "train_cb = pd.read_csv('/content/drive/My Drive/Credit/train_cb.csv', header=None) \n",
        "test_cb = pd.read_csv('/content/drive/My Drive/Credit/test_cb.csv', header=None)"
      ],
      "execution_count": null,
      "outputs": []
    },
    {
      "cell_type": "code",
      "metadata": {
        "id": "l8zTZMdErHPB",
        "colab": {
          "base_uri": "https://localhost:8080/"
        },
        "outputId": "b1fd9ea6-1d25-4212-8322-70e69b3d57c4"
      },
      "source": [
        "# One Hot Encoding\n",
        "from sklearn import preprocessing\n",
        "def encode_string(cat_features):\n",
        "    enc = preprocessing.LabelEncoder()\n",
        "    enc.fit(cat_features)\n",
        "    enc_cat_features = enc.transform(cat_features)\n",
        "    ohe = preprocessing.OneHotEncoder(categories = 'auto')\n",
        "    encoded = ohe.fit(enc_cat_features.reshape(-1,1))\n",
        "    return encoded.transform(enc_cat_features.reshape(-1,1)).toarray()\n",
        "\n",
        "# Apply OHE and make feature label array\n",
        "categorical_columns = ['FAMILY_STATUS','HOUSING_TYPE']\n",
        "feature_train = encode_string(train['GENDER'])\n",
        "feature_test = encode_string(test['GENDER'])\n",
        "\n",
        "for col in categorical_columns:\n",
        "    temp1 = encode_string(train[col])\n",
        "    temp2 = encode_string(test[col])\n",
        "    feature_train = np.concatenate([feature_train, temp1], axis = 1)\n",
        "    feature_test = np.concatenate([feature_test, temp2], axis = 1)\n",
        "    print(feature_train.shape[1],feature_test.shape[1])\n",
        "    if  feature_train.shape[1] != feature_test.shape[1]:\n",
        "      print(col)\n",
        "feature_train = np.concatenate([feature_train, np.array(train[['NUM_CHILDREN','INCOME','ANNUITY', 'APPROVED_CREDIT',\n",
        "                                                    'DAYS_AGE','EXT_SCORE_1','EXT_SCORE_2','EXT_SCORE_3']])], axis = 1)\n",
        "feature_test = np.concatenate([feature_test, np.array(test[['NUM_CHILDREN','INCOME','ANNUITY', 'APPROVED_CREDIT',\n",
        "                                                    'DAYS_AGE','EXT_SCORE_1','EXT_SCORE_2','EXT_SCORE_3']])], axis = 1)\n",
        "train_label = np.array(train[\"TARGET\"])\n",
        "test_label = np.array(test[\"TARGET\"])\n",
        "print(feature_train.shape)\n",
        "print(feature_test.shape)"
      ],
      "execution_count": null,
      "outputs": [
        {
          "output_type": "stream",
          "name": "stdout",
          "text": [
            "7 7\n",
            "13 13\n",
            "(61502, 21)\n",
            "(14761, 21)\n"
          ]
        }
      ]
    },
    {
      "cell_type": "code",
      "metadata": {
        "id": "9RWLtNvzwBUB"
      },
      "source": [
        ""
      ],
      "execution_count": null,
      "outputs": []
    },
    {
      "cell_type": "markdown",
      "metadata": {
        "id": "dD4zzPyo9orh"
      },
      "source": [
        "FEATURE INDEX: \n",
        "\n",
        "GENDER : 0-1   \n",
        "FAMILY STATUS : 2-6   \n",
        "HOUSING TYPE : 7-12     \n",
        "NUM_CHILDREN : 13    \n",
        "INCOME : 14    \n",
        "ANNUITY : 15   \n",
        "APPROVED CREDIT : 16  \n",
        "DAYS_AGE : 17   \n",
        "EXT_SCORE1,2,3 : 18,19,20"
      ]
    },
    {
      "cell_type": "markdown",
      "metadata": {
        "id": "ntBFNviyou6h"
      },
      "source": [
        "I choose the feature above based on trial error, correlation coef and main logic about credit risk, I dont include all because it is not significant to the model perfomance"
      ]
    },
    {
      "cell_type": "code",
      "metadata": {
        "id": "XriiUHfL9rTu",
        "colab": {
          "base_uri": "https://localhost:8080/"
        },
        "outputId": "5fd756dc-bfc5-41e1-fc04-0b26be71d671"
      },
      "source": [
        "# Check label count\n",
        "from collections import Counter\n",
        "counter = Counter(train_label)\n",
        "print(counter)"
      ],
      "execution_count": null,
      "outputs": [
        {
          "output_type": "stream",
          "name": "stdout",
          "text": [
            "Counter({0: 56533, 1: 4969})\n"
          ]
        }
      ]
    },
    {
      "cell_type": "markdown",
      "metadata": {
        "id": "DWXTFsfk_iLM"
      },
      "source": [
        "The label 1 count is below 10% of the datatset. So this condition called imbalanced dataset."
      ]
    },
    {
      "cell_type": "code",
      "metadata": {
        "id": "rnCxRmLs0HoT"
      },
      "source": [
        "# Replacing nan in EXT_SCORE with mean\n",
        "def replace_nan(feature):\n",
        "  a1 = 0\n",
        "  b1 = 0\n",
        "  a2 = 0\n",
        "  b2 = 0\n",
        "  a3 = 0\n",
        "  b3 = 0\n",
        "  for i in range(feature.shape[0]):\n",
        "    if np.isnan(feature[i,-1]) == 1:\n",
        "      b1 = b1 + 1\n",
        "    else:\n",
        "      a1 = a1 + feature[i,-1]\n",
        "      b1 = b1 + 1\n",
        "    if np.isnan(feature[i,-2]) == 1:\n",
        "      b2 = b2 + 1\n",
        "    else:\n",
        "      a2 = a2 + feature[i,-2]\n",
        "      b2 = b2 + 1\n",
        "    if np.isnan(feature[i,-3]) == 1:\n",
        "      b3 = b3 + 1\n",
        "    else:\n",
        "      a3 = a3 + feature[i,-3]\n",
        "      b3 = b3 + 1\n",
        "  m1 = a1/b1\n",
        "  m2 = a2/b2\n",
        "  m3 = a3/b3\n",
        "  for i in range(feature.shape[0]):\n",
        "    if np.isnan(feature[i,-1]) == 1:\n",
        "      feature[i,-1] = m1\n",
        "    else:\n",
        "      None\n",
        "    if np.isnan(feature[i,-2]) == 1:\n",
        "      feature[i,-2] = m2\n",
        "    else:\n",
        "      None\n",
        "    if np.isnan(feature[i,-3]) == 1:\n",
        "      feature[i,-3] = m3\n",
        "    else:\n",
        "      None\n",
        "  return feature\n",
        "\n",
        "feature_train = replace_nan(feature_train)\n",
        "feature_test = replace_nan(feature_test)"
      ],
      "execution_count": null,
      "outputs": []
    },
    {
      "cell_type": "code",
      "metadata": {
        "id": "q2M7UrJ3EP57",
        "colab": {
          "base_uri": "https://localhost:8080/"
        },
        "outputId": "14ee01ab-e2c3-4814-f005-fb4008b16cf3"
      },
      "source": [
        "np.any(np.isnan(feature_test))"
      ],
      "execution_count": null,
      "outputs": [
        {
          "output_type": "execute_result",
          "data": {
            "text/plain": [
              "False"
            ]
          },
          "metadata": {},
          "execution_count": 18
        }
      ]
    },
    {
      "cell_type": "code",
      "metadata": {
        "id": "k7oXzWgiGkIE",
        "colab": {
          "base_uri": "https://localhost:8080/"
        },
        "outputId": "9a0ee3e1-127e-43d0-8471-5f86446c4b62"
      },
      "source": [
        "np.any(np.isnan(feature_train))"
      ],
      "execution_count": null,
      "outputs": [
        {
          "output_type": "execute_result",
          "data": {
            "text/plain": [
              "True"
            ]
          },
          "metadata": {},
          "execution_count": 19
        }
      ]
    },
    {
      "cell_type": "markdown",
      "metadata": {
        "id": "i7GDVq3Cq37C"
      },
      "source": [
        "There is no null values again in both feature test and train."
      ]
    },
    {
      "cell_type": "code",
      "metadata": {
        "id": "IXypp2RlLhxq"
      },
      "source": [
        "# Add credit behavior to feature\n",
        "feature_train = np.concatenate([feature_train, train_cb], axis = 1)\n",
        "feature_test = np.concatenate([feature_test, test_cb], axis = 1)"
      ],
      "execution_count": null,
      "outputs": []
    },
    {
      "cell_type": "markdown",
      "metadata": {
        "id": "tE2d6O5fsdwd"
      },
      "source": [
        "Next step is transforming:\n",
        "1. INCOME, ANNUITY into annuity to income ratio\n",
        "2. ANNUITY, APPROVED_CREDIT into credit duration\n",
        "3. DAYS_AGE into age in year\n",
        "4. Deleting the APPROVED CREDIT because ratio and duration is enough to represent it"
      ]
    },
    {
      "cell_type": "code",
      "metadata": {
        "id": "Rmv6vqMECIna"
      },
      "source": [
        "# Transform feature to more simple form\n",
        "def variable_transform(feature):\n",
        "  for i in range(feature.shape[0]):\n",
        "    feature[i,14] = feature[i,15]/feature[i,14]\n",
        "    feature[i,15] = feature[i,16]/feature[i,15]\n",
        "    feature[i,17] = int(feature[i,17]/-360)\n",
        "  feature = np.delete(feature, 16, axis=1)\n",
        "  return feature\n",
        "  \n",
        "feature_test = variable_transform(feature_test)\n",
        "feature_train = variable_transform(feature_train)"
      ],
      "execution_count": null,
      "outputs": []
    },
    {
      "cell_type": "code",
      "metadata": {
        "id": "vHug-mbO2hyk"
      },
      "source": [
        "# Scaling \n",
        "scaler = preprocessing.StandardScaler().fit(feature_train)\n",
        "feature_train = scaler.transform(feature_train)\n",
        "feature_test = scaler.transform(feature_test)"
      ],
      "execution_count": null,
      "outputs": []
    },
    {
      "cell_type": "markdown",
      "metadata": {
        "id": "8EdSjknWuriD"
      },
      "source": [
        "Scaling is an important step in data preprocessing. The purpose of scaling is to balance feature values, because some model is tend to weigh greater values and ignore the small values.  \n",
        "I choose StandardScaler as my scaling method because StandardScaler using the z score  that can help detect outliers and its important"
      ]
    },
    {
      "cell_type": "markdown",
      "metadata": {
        "id": "zwxCFyOj0_QC"
      },
      "source": [
        "And the next step should be remove outliers. Outliers are data that extreme value differ from other, so it can make the model confuse and misfit the prediction.     \n",
        "Im using the zscore that obtained before. If the values greater than  +-3 i considered a outliers, because a value greater than +-3 it means the probability of occuring is very small.\n",
        "But i find the test.csv contain outlier too so i decided not too remove it"
      ]
    },
    {
      "cell_type": "markdown",
      "metadata": {
        "id": "PIQ3FPHydHND"
      },
      "source": [
        "### 3.5 Oversampling"
      ]
    },
    {
      "cell_type": "markdown",
      "metadata": {
        "id": "Ww0_ooDJ8PMH"
      },
      "source": [
        "Oversampling is a method to solve imbalanced dataset by raising the minority data.     \n",
        "One of the oversampling method is SMOTE, SMOTE work based on k-NN and create sythetic data from it.    \n",
        "I choose this method because it is better compared with custom weighting by trial and error."
      ]
    },
    {
      "cell_type": "code",
      "metadata": {
        "id": "OorvlAjkrVm-",
        "colab": {
          "base_uri": "https://localhost:8080/"
        },
        "outputId": "56968cc9-fbc9-4b4e-886a-74e39a254aee"
      },
      "source": [
        "from imblearn.over_sampling import SMOTE\n",
        "from imblearn.pipeline import Pipeline"
      ],
      "execution_count": null,
      "outputs": [
        {
          "output_type": "stream",
          "text": [
            "/usr/local/lib/python3.6/dist-packages/sklearn/externals/six.py:31: FutureWarning: The module is deprecated in version 0.21 and will be removed in version 0.23 since we've dropped support for Python 2.7. Please rely on the official version of six (https://pypi.org/project/six/).\n",
            "  \"(https://pypi.org/project/six/).\", FutureWarning)\n",
            "/usr/local/lib/python3.6/dist-packages/sklearn/utils/deprecation.py:144: FutureWarning: The sklearn.neighbors.base module is  deprecated in version 0.22 and will be removed in version 0.24. The corresponding classes / functions should instead be imported from sklearn.neighbors. Anything that cannot be imported from sklearn.neighbors is now part of the private API.\n",
            "  warnings.warn(message, FutureWarning)\n"
          ],
          "name": "stderr"
        }
      ]
    },
    {
      "cell_type": "code",
      "metadata": {
        "id": "jssVuN6JrXuu",
        "colab": {
          "base_uri": "https://localhost:8080/"
        },
        "outputId": "b788e88f-82ca-4ab7-ff02-82aa2b84505d"
      },
      "source": [
        "over = SMOTE(random_state=12, ratio = 1.0)\n",
        "steps = [('o', over)]\n",
        "pipeline = Pipeline(steps=steps)\n",
        "feature_train1, train_label1 = pipeline.fit_resample(feature_train, train_label)\n",
        "counter = Counter(train_label1)\n",
        "print(counter)"
      ],
      "execution_count": null,
      "outputs": [
        {
          "output_type": "stream",
          "text": [
            "/usr/local/lib/python3.6/dist-packages/sklearn/utils/deprecation.py:87: FutureWarning: Function safe_indexing is deprecated; safe_indexing is deprecated in version 0.22 and will be removed in version 0.24.\n",
            "  warnings.warn(msg, category=FutureWarning)\n"
          ],
          "name": "stderr"
        },
        {
          "output_type": "stream",
          "text": [
            "Counter({0: 56533, 1: 56533})\n"
          ],
          "name": "stdout"
        }
      ]
    },
    {
      "cell_type": "markdown",
      "metadata": {
        "id": "4JccGlKOOb5o"
      },
      "source": [
        "## 4. Risk Model and result"
      ]
    },
    {
      "cell_type": "code",
      "metadata": {
        "id": "lTkEgD5D6Lwq"
      },
      "source": [
        "import sklearn.metrics as sklm\n",
        "from sklearn.ensemble import RandomForestClassifier\n",
        "\n",
        "def print_metrics(label, scores):\n",
        "        conf = sklm.confusion_matrix(label, scores)\n",
        "        print('             Confusion matrix')\n",
        "        print('             Score 0   Score 1')\n",
        "        print('Actual 0   %6d' % conf[0,0] + '      %5d' % conf[0,1])\n",
        "        print('Actual 1   %6d' % conf[1,0] + '      %5d' % conf[1,1])\n",
        "        print('')\n",
        "        print('Accuracy    = %0.3f' % sklm.accuracy_score(label, scores))\n",
        "        print('Recall      = %0.3f' % sklm.recall_score(label, scores))\n",
        "        tn, fp, fn, tp = sklm.confusion_matrix(label, scores).ravel()\n",
        "        sensitive = tn / (tn+fp)\n",
        "        print('Sensitivity = %0.3f' % sensitive)\n",
        "        false_positive_rate, true_positive_rate, thresholds = sklm.roc_curve(label, scores)\n",
        "        print('AUC Score   = %0.3f' % sklm.auc(false_positive_rate, true_positive_rate))"
      ],
      "execution_count": null,
      "outputs": []
    },
    {
      "cell_type": "code",
      "metadata": {
        "id": "NwuHk6dDGw2V",
        "colab": {
          "base_uri": "https://localhost:8080/",
          "height": 163
        },
        "outputId": "e7b346d5-bc63-4047-e7b8-ff9fc2fee474"
      },
      "source": [
        "rf = RandomForestClassifier(n_estimators=100, max_depth=10, random_state=0)\n",
        "rf.fit(feature_train1,train_label1)\n",
        "train_pred = rf.predict(feature_train1)\n",
        "test_pred = rf.predict(feature_test)\n",
        "print_metrics(test_label,test_pred)"
      ],
      "execution_count": null,
      "outputs": [
        {
          "output_type": "stream",
          "text": [
            "             Confusion matrix\n",
            "             Score 0   Score 1\n",
            "Actual 0     9572       3986\n",
            "Actual 1      416        787\n",
            "\n",
            "Accuracy    = 0.702\n",
            "Recall      = 0.654\n",
            "Sensitivity = 0.706\n",
            "AUC Score   = 0.680\n"
          ],
          "name": "stdout"
        }
      ]
    },
    {
      "cell_type": "markdown",
      "metadata": {
        "id": "jAWnT13EbQ48"
      },
      "source": [
        "## 5. Rank Decision"
      ]
    },
    {
      "cell_type": "markdown",
      "metadata": {
        "id": "fdjMuufHRQhb"
      },
      "source": [
        "### 5.1 Costumer Clustering"
      ]
    },
    {
      "cell_type": "code",
      "metadata": {
        "id": "t-4vI6PbROZh"
      },
      "source": [
        "def rank(feature):\n",
        "  feature_rank = np.zeros((feature.shape[0],3))\n",
        "  feature_rank[:,0] = feature[:,15]\n",
        "  feature_rank[:,1] = feature[:,20]\n",
        "  return feature_rank\n",
        "\n",
        "feature_rank_train = rank(feature_train)\n",
        "feature_rank_test = rank(feature_test)"
      ],
      "execution_count": null,
      "outputs": []
    },
    {
      "cell_type": "code",
      "metadata": {
        "id": "keQQfRgbt1LN"
      },
      "source": [
        "mean1 = np.mean(feature_rank_train[:,0])\n",
        "mean2 = np.mean(feature_rank_train[:,1])\n",
        "sd1 = np.std(feature_rank_train[:,0])/2\n",
        "sd2 = np.std(feature_rank_train[:,1])/2\n",
        "def classify_rank(feature):\n",
        "  for i in range(feature.shape[0]):\n",
        "    if feature[i,0] <= mean1-sd1 and feature[i,1] <= mean2-sd2:\n",
        "      feature[i,2] = 0\n",
        "    elif feature[i,0] >= mean1+sd1 and feature[i,1] >= mean2+sd2:\n",
        "      feature[i,2] = 1\n",
        "    else:\n",
        "      feature[i,2] = 2\n",
        "  return feature\n",
        "\n",
        "feature_rank_test = classify_rank(feature_rank_test)"
      ],
      "execution_count": null,
      "outputs": []
    },
    {
      "cell_type": "code",
      "metadata": {
        "id": "rBI3QuhUGkLQ",
        "colab": {
          "base_uri": "https://localhost:8080/"
        },
        "outputId": "a4005bc1-af28-45e6-ed25-e5f109e877f0"
      },
      "source": [
        "import matplotlib.pyplot as plt\n",
        "plt.figure(figsize=(10,10))\n",
        "plt.scatter(feature_rank_test[:,0], feature_rank_test[:,1], c=feature_rank_test[:,2], label=feature_rank_test[:,2])\n",
        "plt.colorbar()\n",
        "plt.plot"
      ],
      "execution_count": null,
      "outputs": [
        {
          "output_type": "execute_result",
          "data": {
            "text/plain": [
              "<function matplotlib.pyplot.plot>"
            ]
          },
          "metadata": {
            "tags": []
          },
          "execution_count": 21
        },
        {
          "output_type": "display_data",
          "data": {
            "image/png": "[encoded data removed]",
            "text/plain": [
              "<Figure size 720x720 with 2 Axes>"
            ]
          },
          "metadata": {
            "tags": [],
            "needs_background": "light"
          }
        }
      ]
    },
    {
      "cell_type": "markdown",
      "metadata": {
        "id": "33csR5dGJI1z"
      },
      "source": [
        "### 5.2 Decision Result"
      ]
    },
    {
      "cell_type": "code",
      "metadata": {
        "id": "PrZDfTGpbjza"
      },
      "source": [
        "q1, q2, q0 = 0, 0, 0\n",
        "for i in range(test_pred.shape[0]):\n",
        "    if feature_rank_test[i,2] == 1:\n",
        "      q1 = q1 + test_pred[i]\n",
        "    elif feature_rank_test[i,2] == 2:\n",
        "      q2 = q2 + test_pred[i]\n",
        "    else:\n",
        "      q0 = q0 + test_pred[i]"
      ],
      "execution_count": null,
      "outputs": []
    },
    {
      "cell_type": "code",
      "metadata": {
        "id": "iPQBELukdei7",
        "colab": {
          "base_uri": "https://localhost:8080/",
          "height": 33
        },
        "outputId": "21694e01-de5e-492f-cff3-af33ba8554ef"
      },
      "source": [
        "sum = feature_rank_test[:,2]\n",
        "counter = Counter(sum.reshape([-1]))\n",
        "print(counter)"
      ],
      "execution_count": null,
      "outputs": [
        {
          "output_type": "stream",
          "text": [
            "Counter({2.0: 11634, 0.0: 2452, 1.0: 675})\n"
          ],
          "name": "stdout"
        }
      ]
    },
    {
      "cell_type": "code",
      "metadata": {
        "id": "dNyptMyjfLpo",
        "colab": {
          "base_uri": "https://localhost:8080/",
          "height": 66
        },
        "outputId": "a1655c7e-1b1b-42fe-c81a-937e9534148f"
      },
      "source": [
        "print('Cluster 0, Predict 1 = {}, Predict 0 = {}'.format(q0, counter[0]-q0))\n",
        "print('Cluster 1, Predict 1 = {}, Predict 0 = {}'.format(q1, counter[1]-q1))\n",
        "print('Cluster 2, Predict 1 = {}, Predict 0 = {}'.format(q2, counter[2]-q2))"
      ],
      "execution_count": null,
      "outputs": [
        {
          "output_type": "stream",
          "text": [
            "Cluster 0, Predict 1 = 605, Predict 0 = 1847\n",
            "Cluster 1, Predict 1 = 249, Predict 0 = 426\n",
            "Cluster 2, Predict 1 = 3919, Predict 0 = 7715\n"
          ],
          "name": "stdout"
        }
      ]
    },
    {
      "cell_type": "code",
      "metadata": {
        "id": "y77WcIxbjEXa"
      },
      "source": [
        "rank_list = []\n",
        "for i in range(test_pred.shape[0]):\n",
        "  if feature_rank_test[i,2] == 0 and test_pred[i] == 0:\n",
        "    rank_list.append('Very Low risk')\n",
        "  elif feature_rank_test[i,2] == 0 and test_pred[i] == 1:\n",
        "    rank_list.append('Low Risk')\n",
        "  elif feature_rank_test[i,2] == 1 and test_pred[i] == 0:\n",
        "    rank_list.append('High Risk')\n",
        "  elif feature_rank_test[i,2] == 1 and test_pred[i] == 1:\n",
        "    rank_list.append('Very High Risk')\n",
        "  elif feature_rank_test[i,2] == 2 and test_pred[i] == 0:\n",
        "    rank_list.append('Medium Risk')\n",
        "  else:\n",
        "    rank_list.append('Medium Risk')"
      ],
      "execution_count": null,
      "outputs": []
    },
    {
      "cell_type": "code",
      "metadata": {
        "id": "2ZbDOj8guFWQ",
        "colab": {
          "base_uri": "https://localhost:8080/",
          "height": 131
        },
        "outputId": "8523941a-8f87-4e43-82a8-eb073b146a94"
      },
      "source": [
        "rank_list = np.array([rank_list])\n",
        "rank_decision = np.array([test['LN_ID']])\n",
        "rank_decision.reshape([-1,1])\n",
        "rank_list.reshape([-1,1])"
      ],
      "execution_count": null,
      "outputs": [
        {
          "output_type": "execute_result",
          "data": {
            "text/plain": [
              "array([['Medium Risk'],\n",
              "       ['Medium Risk'],\n",
              "       ['Medium Risk'],\n",
              "       ...,\n",
              "       ['Medium Risk'],\n",
              "       ['Medium Risk'],\n",
              "       ['Very Low risk']], dtype='<U14')"
            ]
          },
          "metadata": {
            "tags": []
          },
          "execution_count": 26
        }
      ]
    },
    {
      "cell_type": "code",
      "metadata": {
        "id": "kBWsRUaPvarF"
      },
      "source": [
        "rank_decision = np.concatenate([rank_decision,rank_list])"
      ],
      "execution_count": null,
      "outputs": []
    },
    {
      "cell_type": "code",
      "metadata": {
        "id": "xokbQDic0_jS",
        "colab": {
          "base_uri": "https://localhost:8080/",
          "height": 131
        },
        "outputId": "0da14170-5964-460c-8267-d56f7c5f5801"
      },
      "source": [
        "rank_decision.reshape([-1,2])"
      ],
      "execution_count": null,
      "outputs": [
        {
          "output_type": "execute_result",
          "data": {
            "text/plain": [
              "array([['100054', '100081'],\n",
              "       ['100100', '100131'],\n",
              "       ['100135', '100136'],\n",
              "       ...,\n",
              "       ['Very Low risk', 'Very Low risk'],\n",
              "       ['Medium Risk', 'Medium Risk'],\n",
              "       ['Medium Risk', 'Very Low risk']], dtype='<U21')"
            ]
          },
          "metadata": {
            "tags": []
          },
          "execution_count": 28
        }
      ]
    },
    {
      "cell_type": "code",
      "metadata": {
        "id": "elOpKYbBzkXI"
      },
      "source": [
        "rank_decision_df = pd.DataFrame(data = rank_decision)"
      ],
      "execution_count": null,
      "outputs": []
    },
    {
      "cell_type": "code",
      "metadata": {
        "id": "a8Ixi5Kx1s2g",
        "colab": {
          "base_uri": "https://localhost:8080/",
          "height": 185
        },
        "outputId": "4f0e6bd7-25ba-42e2-a130-2ddb2174cffe"
      },
      "source": [
        "rank_decision_df"
      ],
      "execution_count": null,
      "outputs": [
        {
          "output_type": "execute_result",
          "data": {
            "text/html": [
              "<div>\n",
              "<style scoped>\n",
              "    .dataframe tbody tr th:only-of-type {\n",
              "        vertical-align: middle;\n",
              "    }\n",
              "\n",
              "    .dataframe tbody tr th {\n",
              "        vertical-align: top;\n",
              "    }\n",
              "\n",
              "    .dataframe thead th {\n",
              "        text-align: right;\n",
              "    }\n",
              "</style>\n",
              "<table border=\"1\" class=\"dataframe\">\n",
              "  <thead>\n",
              "    <tr style=\"text-align: right;\">\n",
              "      <th></th>\n",
              "      <th>0</th>\n",
              "      <th>1</th>\n",
              "      <th>2</th>\n",
              "      <th>3</th>\n",
              "      <th>4</th>\n",
              "      <th>5</th>\n",
              "      <th>6</th>\n",
              "      <th>7</th>\n",
              "      <th>8</th>\n",
              "      <th>9</th>\n",
              "      <th>10</th>\n",
              "      <th>11</th>\n",
              "      <th>12</th>\n",
              "      <th>13</th>\n",
              "      <th>14</th>\n",
              "      <th>15</th>\n",
              "      <th>16</th>\n",
              "      <th>17</th>\n",
              "      <th>18</th>\n",
              "      <th>19</th>\n",
              "      <th>20</th>\n",
              "      <th>21</th>\n",
              "      <th>22</th>\n",
              "      <th>23</th>\n",
              "      <th>24</th>\n",
              "      <th>25</th>\n",
              "      <th>26</th>\n",
              "      <th>27</th>\n",
              "      <th>28</th>\n",
              "      <th>29</th>\n",
              "      <th>30</th>\n",
              "      <th>31</th>\n",
              "      <th>32</th>\n",
              "      <th>33</th>\n",
              "      <th>34</th>\n",
              "      <th>35</th>\n",
              "      <th>36</th>\n",
              "      <th>37</th>\n",
              "      <th>38</th>\n",
              "      <th>39</th>\n",
              "      <th>...</th>\n",
              "      <th>14721</th>\n",
              "      <th>14722</th>\n",
              "      <th>14723</th>\n",
              "      <th>14724</th>\n",
              "      <th>14725</th>\n",
              "      <th>14726</th>\n",
              "      <th>14727</th>\n",
              "      <th>14728</th>\n",
              "      <th>14729</th>\n",
              "      <th>14730</th>\n",
              "      <th>14731</th>\n",
              "      <th>14732</th>\n",
              "      <th>14733</th>\n",
              "      <th>14734</th>\n",
              "      <th>14735</th>\n",
              "      <th>14736</th>\n",
              "      <th>14737</th>\n",
              "      <th>14738</th>\n",
              "      <th>14739</th>\n",
              "      <th>14740</th>\n",
              "      <th>14741</th>\n",
              "      <th>14742</th>\n",
              "      <th>14743</th>\n",
              "      <th>14744</th>\n",
              "      <th>14745</th>\n",
              "      <th>14746</th>\n",
              "      <th>14747</th>\n",
              "      <th>14748</th>\n",
              "      <th>14749</th>\n",
              "      <th>14750</th>\n",
              "      <th>14751</th>\n",
              "      <th>14752</th>\n",
              "      <th>14753</th>\n",
              "      <th>14754</th>\n",
              "      <th>14755</th>\n",
              "      <th>14756</th>\n",
              "      <th>14757</th>\n",
              "      <th>14758</th>\n",
              "      <th>14759</th>\n",
              "      <th>14760</th>\n",
              "    </tr>\n",
              "  </thead>\n",
              "  <tbody>\n",
              "    <tr>\n",
              "      <th>0</th>\n",
              "      <td>100054</td>\n",
              "      <td>100081</td>\n",
              "      <td>100100</td>\n",
              "      <td>100131</td>\n",
              "      <td>100135</td>\n",
              "      <td>100136</td>\n",
              "      <td>100149</td>\n",
              "      <td>100163</td>\n",
              "      <td>100292</td>\n",
              "      <td>100337</td>\n",
              "      <td>100362</td>\n",
              "      <td>100371</td>\n",
              "      <td>100417</td>\n",
              "      <td>100454</td>\n",
              "      <td>100460</td>\n",
              "      <td>100463</td>\n",
              "      <td>100469</td>\n",
              "      <td>100481</td>\n",
              "      <td>100493</td>\n",
              "      <td>100511</td>\n",
              "      <td>100523</td>\n",
              "      <td>100574</td>\n",
              "      <td>100576</td>\n",
              "      <td>100635</td>\n",
              "      <td>100650</td>\n",
              "      <td>100651</td>\n",
              "      <td>100671</td>\n",
              "      <td>100680</td>\n",
              "      <td>100685</td>\n",
              "      <td>100714</td>\n",
              "      <td>100727</td>\n",
              "      <td>100749</td>\n",
              "      <td>100793</td>\n",
              "      <td>100818</td>\n",
              "      <td>100819</td>\n",
              "      <td>100923</td>\n",
              "      <td>100974</td>\n",
              "      <td>101028</td>\n",
              "      <td>101034</td>\n",
              "      <td>101059</td>\n",
              "      <td>...</td>\n",
              "      <td>455165</td>\n",
              "      <td>455179</td>\n",
              "      <td>455278</td>\n",
              "      <td>455285</td>\n",
              "      <td>455325</td>\n",
              "      <td>455394</td>\n",
              "      <td>455428</td>\n",
              "      <td>455442</td>\n",
              "      <td>455471</td>\n",
              "      <td>455494</td>\n",
              "      <td>455499</td>\n",
              "      <td>455508</td>\n",
              "      <td>455522</td>\n",
              "      <td>455523</td>\n",
              "      <td>455550</td>\n",
              "      <td>455554</td>\n",
              "      <td>455572</td>\n",
              "      <td>455574</td>\n",
              "      <td>455655</td>\n",
              "      <td>455688</td>\n",
              "      <td>455707</td>\n",
              "      <td>455729</td>\n",
              "      <td>455743</td>\n",
              "      <td>455777</td>\n",
              "      <td>455831</td>\n",
              "      <td>455893</td>\n",
              "      <td>455942</td>\n",
              "      <td>455967</td>\n",
              "      <td>455991</td>\n",
              "      <td>456051</td>\n",
              "      <td>456057</td>\n",
              "      <td>456061</td>\n",
              "      <td>456102</td>\n",
              "      <td>456124</td>\n",
              "      <td>456129</td>\n",
              "      <td>456140</td>\n",
              "      <td>456156</td>\n",
              "      <td>456174</td>\n",
              "      <td>456175</td>\n",
              "      <td>456249</td>\n",
              "    </tr>\n",
              "    <tr>\n",
              "      <th>1</th>\n",
              "      <td>Medium Risk</td>\n",
              "      <td>Medium Risk</td>\n",
              "      <td>Medium Risk</td>\n",
              "      <td>Medium Risk</td>\n",
              "      <td>Very Low risk</td>\n",
              "      <td>Medium Risk</td>\n",
              "      <td>Medium Risk</td>\n",
              "      <td>Medium Risk</td>\n",
              "      <td>Medium Risk</td>\n",
              "      <td>Medium Risk</td>\n",
              "      <td>Medium Risk</td>\n",
              "      <td>Medium Risk</td>\n",
              "      <td>Medium Risk</td>\n",
              "      <td>Medium Risk</td>\n",
              "      <td>Medium Risk</td>\n",
              "      <td>Medium Risk</td>\n",
              "      <td>Medium Risk</td>\n",
              "      <td>Medium Risk</td>\n",
              "      <td>Medium Risk</td>\n",
              "      <td>Medium Risk</td>\n",
              "      <td>Medium Risk</td>\n",
              "      <td>Medium Risk</td>\n",
              "      <td>Very Low risk</td>\n",
              "      <td>Very Low risk</td>\n",
              "      <td>Medium Risk</td>\n",
              "      <td>Medium Risk</td>\n",
              "      <td>Medium Risk</td>\n",
              "      <td>Very Low risk</td>\n",
              "      <td>Medium Risk</td>\n",
              "      <td>Medium Risk</td>\n",
              "      <td>Medium Risk</td>\n",
              "      <td>Medium Risk</td>\n",
              "      <td>Medium Risk</td>\n",
              "      <td>Medium Risk</td>\n",
              "      <td>Medium Risk</td>\n",
              "      <td>Medium Risk</td>\n",
              "      <td>Medium Risk</td>\n",
              "      <td>Medium Risk</td>\n",
              "      <td>Medium Risk</td>\n",
              "      <td>Very Low risk</td>\n",
              "      <td>...</td>\n",
              "      <td>Medium Risk</td>\n",
              "      <td>Medium Risk</td>\n",
              "      <td>Medium Risk</td>\n",
              "      <td>Medium Risk</td>\n",
              "      <td>Medium Risk</td>\n",
              "      <td>Medium Risk</td>\n",
              "      <td>Very Low risk</td>\n",
              "      <td>Medium Risk</td>\n",
              "      <td>Medium Risk</td>\n",
              "      <td>Medium Risk</td>\n",
              "      <td>Very Low risk</td>\n",
              "      <td>Very Low risk</td>\n",
              "      <td>Medium Risk</td>\n",
              "      <td>Medium Risk</td>\n",
              "      <td>Very Low risk</td>\n",
              "      <td>High Risk</td>\n",
              "      <td>Medium Risk</td>\n",
              "      <td>Medium Risk</td>\n",
              "      <td>Medium Risk</td>\n",
              "      <td>Medium Risk</td>\n",
              "      <td>High Risk</td>\n",
              "      <td>Medium Risk</td>\n",
              "      <td>Medium Risk</td>\n",
              "      <td>Medium Risk</td>\n",
              "      <td>Very Low risk</td>\n",
              "      <td>Medium Risk</td>\n",
              "      <td>Medium Risk</td>\n",
              "      <td>Medium Risk</td>\n",
              "      <td>Medium Risk</td>\n",
              "      <td>Medium Risk</td>\n",
              "      <td>Very Low risk</td>\n",
              "      <td>Medium Risk</td>\n",
              "      <td>Low Risk</td>\n",
              "      <td>Medium Risk</td>\n",
              "      <td>Very Low risk</td>\n",
              "      <td>Very Low risk</td>\n",
              "      <td>Medium Risk</td>\n",
              "      <td>Medium Risk</td>\n",
              "      <td>Medium Risk</td>\n",
              "      <td>Very Low risk</td>\n",
              "    </tr>\n",
              "  </tbody>\n",
              "</table>\n",
              "<p>2 rows × 14761 columns</p>\n",
              "</div>"
            ],
            "text/plain": [
              "         0            1      ...        14759          14760\n",
              "0       100054       100081  ...       456175         456249\n",
              "1  Medium Risk  Medium Risk  ...  Medium Risk  Very Low risk\n",
              "\n",
              "[2 rows x 14761 columns]"
            ]
          },
          "metadata": {
            "tags": []
          },
          "execution_count": 32
        }
      ]
    }
  ]
}